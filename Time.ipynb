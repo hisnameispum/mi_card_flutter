{
 "cells": [
  {
   "cell_type": "code",
   "execution_count": 2,
   "metadata": {},
   "outputs": [],
   "source": [
    "import time as t"
   ]
  },
  {
   "cell_type": "markdown",
   "metadata": {},
   "source": [
    "# Python time.time()\n",
    "The time() function returns the number of seconds passed since epoch.\n",
    "\n",
    "For Unix system, January 1, 1970, 00:00:00 at UTC is epoch (the point where time begins).\n",
    "Ps. Epoch = A period of time in history or a person's life, typically one marked by notable events or particular characteristics."
   ]
  },
  {
   "cell_type": "code",
   "execution_count": 13,
   "metadata": {},
   "outputs": [
    {
     "name": "stdout",
     "output_type": "stream",
     "text": [
      "Seconds since epoch is 1568161814.57819\n"
     ]
    }
   ],
   "source": [
    "seconds = t.time()\n",
    "print(f\"Seconds since epoch is {seconds}\")"
   ]
  },
  {
   "cell_type": "markdown",
   "metadata": {},
   "source": [
    "# Python time.localtime()\n",
    "The localtime() function takes the number of seconds passed since epoch as an argument and returns struct_time in local time."
   ]
  },
  {
   "cell_type": "code",
   "execution_count": null,
   "metadata": {},
   "outputs": [],
   "source": []
  }
 ],
 "metadata": {
  "kernelspec": {
   "display_name": "Python 3",
   "language": "python",
   "name": "python3"
  },
  "language_info": {
   "codemirror_mode": {
    "name": "ipython",
    "version": 3
   },
   "file_extension": ".py",
   "mimetype": "text/x-python",
   "name": "python",
   "nbconvert_exporter": "python",
   "pygments_lexer": "ipython3",
   "version": "3.7.3"
  }
 },
 "nbformat": 4,
 "nbformat_minor": 2
}
